{
 "cells": [
  {
   "cell_type": "code",
   "execution_count": 2,
   "metadata": {},
   "outputs": [],
   "source": [
    "import numpy as np\n",
    "import copy\n",
    "import pandas as pd\n",
    "import tensorflow.compat.v2 as tf\n",
    "tf.enable_v2_behavior()\n",
    "import tensorflow_probability as tfp\n",
    "tfd = tfp.distributions\n",
    "tfb = tfp.bijectors\n",
    "\n",
    "from scipy.stats import invwishart, invgamma,multivariate_normal\n",
    "from utils import DagMake\n",
    "from mcem import mcem"
   ]
  },
  {
   "cell_type": "code",
   "execution_count": 3,
   "metadata": {},
   "outputs": [],
   "source": [
    "# reparametrizing sigma_h to unconstrained parameters\n",
    "sigma_h_to_V= tfb.Chain([  \n",
    "    tfb.TransformDiagonal(tfb.Invert(tfb.Exp())),\n",
    "    tfb.Invert(tfb.CholeskyOuterProduct()),\n",
    "])\n",
    "flatten = tfb.Chain([\n",
    "    tfb.Invert(tfb.FillTriangular()),    \n",
    "])\n",
    "\n",
    "def shrinkage(sigma,p,s):\n",
    "    omega=np.linalg.inv(sigma)\n",
    "    for i in range(0,p):\n",
    "        for j in range (0,p):\n",
    "                    if omega[i,j]<=s:\n",
    "                        omega[i,j]=0\n",
    "    return omega\n",
    "\n",
    "def structure(omega,p):\n",
    "    G=omega\n",
    "    for i in range(0,p):\n",
    "        for j in range (0,p):\n",
    "            if i==j:\n",
    "                G[i,j]=0\n",
    "            else:\n",
    "                if G[i,j]!=0:\n",
    "                    G[i,j]=1               \n",
    "    return G"
   ]
  },
  {
   "cell_type": "code",
   "execution_count": 26,
   "metadata": {},
   "outputs": [],
   "source": [
    "# Initial lower-traguular matrix(which is the unrestricted variables to \\sigma_h)\n",
    "V= np.eye(10, dtype=np.float32)\n",
    "\n",
    "# Transfer unrestricted matrix V to \\sigma_h (positive definited matrix)\n",
    "sigma_h= sigma_h_to_V.inverse(V).numpy()\n",
    "\n",
    "# Generated $m$ covriance matrices from \\sigma_h \n",
    "# Here we generate 3 covariance matrices form an inverse Wishart distribution\n",
    "#      with degree of freedom equal to 15, and covariance equal to sigma_h\n",
    "sigma_l=invwishart.rvs(15, sigma_h, size=3, random_state=179)"
   ]
  },
  {
   "cell_type": "code",
   "execution_count": 27,
   "metadata": {},
   "outputs": [],
   "source": [
    "# Shrink some elements of the precision matrix with small absolute value to zero\n",
    "omega_pre=copy.deepcopy(sigma_l)\n",
    "for i in range (0,3):\n",
    "    omega_pre[i]=shrinkage(omega_pre[i],10,0.4)\n",
    "    \n",
    "# Generate the corresponding graph structure from omega_pre\n",
    "omega_structure=copy.deepcopy(omega_pre)\n",
    "for i in range (0,3):\n",
    "    omega_structure[i]=structure(omega_structure[i],10)\n",
    "    \n",
    "# Generate the corresponding covariance matrix from the sparse precision matrix \n",
    "sigma_sparse=copy.deepcopy(omega_pre)\n",
    "for i in range (0,3):\n",
    "    sigma_sparse[i]=np.linalg.inv(omega_pre[i])"
   ]
  },
  {
   "cell_type": "code",
   "execution_count": 31,
   "metadata": {},
   "outputs": [],
   "source": [
    "# Initialization\n",
    "\n",
    "m=3 #the number of tasks \n",
    "v0=15 #degree of freedom in the inverse Wishart distribution \n",
    "p=10 #dimension\n",
    "stepsize=0.0000021 #the step length in HMC algorithm \n",
    "iteration=5 #the number of iterations in HMC algorithm\n",
    "epsilon=0.0005\n",
    "# Generate datasets\n",
    "dataset=dict()\n",
    "initial_G=dict()\n",
    "for i in range(1,m+1):\n",
    "    dataset[i]=np.array(multivariate_normal.rvs(mean=None, cov=sigma_sparse[i-1], size=250, random_state=134),'float32')\n",
    "    initial_G[i] =np.array(DagMake(10),'float32')"
   ]
  },
  {
   "cell_type": "code",
   "execution_count": 32,
   "metadata": {},
   "outputs": [],
   "source": [
    "BN=mcem(m,v0,p,V,stepsize,iteration,dataset,initial_G,epsilon)"
   ]
  },
  {
   "cell_type": "code",
   "execution_count": 40,
   "metadata": {},
   "outputs": [
    {
     "data": {
      "text/plain": [
       "{1: array([[0., 0., 0., 0., 0., 0., 0., 1., 0., 0.],\n",
       "        [0., 0., 0., 0., 0., 0., 0., 0., 1., 0.],\n",
       "        [0., 0., 0., 0., 0., 1., 0., 1., 0., 0.],\n",
       "        [0., 0., 0., 0., 0., 0., 0., 0., 0., 1.],\n",
       "        [0., 0., 0., 0., 0., 0., 0., 0., 0., 0.],\n",
       "        [1., 0., 0., 0., 1., 0., 0., 0., 0., 1.],\n",
       "        [0., 0., 0., 0., 0., 0., 0., 0., 0., 0.],\n",
       "        [0., 1., 0., 0., 0., 0., 1., 0., 0., 0.],\n",
       "        [0., 0., 0., 0., 0., 0., 0., 0., 0., 0.],\n",
       "        [0., 0., 0., 0., 0., 0., 0., 0., 0., 0.]], dtype=float32),\n",
       " 2: array([[0., 1., 0., 1., 0., 0., 0., 0., 0., 0.],\n",
       "        [0., 0., 0., 0., 0., 1., 0., 0., 0., 0.],\n",
       "        [0., 0., 0., 0., 0., 0., 0., 0., 0., 0.],\n",
       "        [0., 0., 0., 0., 0., 1., 0., 0., 0., 0.],\n",
       "        [0., 0., 0., 0., 0., 0., 0., 0., 0., 0.],\n",
       "        [0., 0., 0., 0., 0., 0., 0., 0., 0., 0.],\n",
       "        [0., 0., 0., 0., 0., 1., 0., 0., 0., 1.],\n",
       "        [0., 0., 0., 0., 0., 0., 0., 0., 0., 0.],\n",
       "        [0., 0., 0., 0., 0., 0., 0., 0., 0., 0.],\n",
       "        [0., 0., 0., 0., 0., 0., 0., 0., 0., 0.]], dtype=float32),\n",
       " 3: array([[0., 0., 0., 0., 0., 0., 0., 1., 0., 1.],\n",
       "        [0., 0., 0., 0., 0., 0., 0., 0., 0., 0.],\n",
       "        [0., 0., 0., 0., 0., 0., 0., 0., 0., 0.],\n",
       "        [0., 0., 0., 0., 0., 0., 1., 0., 0., 0.],\n",
       "        [0., 0., 0., 0., 0., 0., 1., 0., 1., 0.],\n",
       "        [0., 0., 0., 0., 0., 0., 0., 0., 0., 0.],\n",
       "        [0., 0., 1., 0., 0., 0., 0., 0., 0., 0.],\n",
       "        [0., 0., 0., 0., 1., 0., 0., 0., 0., 0.],\n",
       "        [0., 0., 0., 0., 0., 0., 0., 0., 0., 0.],\n",
       "        [0., 0., 0., 0., 0., 0., 0., 0., 0., 0.]], dtype=float32)}"
      ]
     },
     "execution_count": 40,
     "metadata": {},
     "output_type": "execute_result"
    }
   ],
   "source": [
    "BN"
   ]
  }
 ],
 "metadata": {
  "kernelspec": {
   "display_name": "Python [conda env:miniconda3]",
   "language": "python",
   "name": "conda-env-miniconda3-py"
  },
  "language_info": {
   "codemirror_mode": {
    "name": "ipython",
    "version": 3
   },
   "file_extension": ".py",
   "mimetype": "text/x-python",
   "name": "python",
   "nbconvert_exporter": "python",
   "pygments_lexer": "ipython3",
   "version": "3.8.3"
  }
 },
 "nbformat": 4,
 "nbformat_minor": 4
}
